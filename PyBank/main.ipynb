{
 "cells": [
  {
   "cell_type": "code",
   "execution_count": 11,
   "id": "f59a7f6f-9aa6-4a01-ab3b-d389c141e0d1",
   "metadata": {},
   "outputs": [],
   "source": [
    "# Create a Python script that analyzes the PyBank records to calculate each of the following:"
   ]
  },
  {
   "cell_type": "code",
   "execution_count": 12,
   "id": "b4231594-3755-4743-a629-488bd011b8b1",
   "metadata": {},
   "outputs": [],
   "source": [
    "# -->>  The total number of months included in the dataset"
   ]
  },
  {
   "cell_type": "code",
   "execution_count": 13,
   "id": "67b0e6c5-6e60-414c-87e1-14a2c63f07ea",
   "metadata": {},
   "outputs": [],
   "source": [
    "# -->>  The net total amount of \"Profit/Losses\" over the entire period"
   ]
  },
  {
   "cell_type": "code",
   "execution_count": 14,
   "id": "47fbe535-c832-46ce-bc45-cc29a6a4ebe4",
   "metadata": {},
   "outputs": [],
   "source": [
    "# -->>  The average of the changes in \"Profit/Losses\" over the entire period"
   ]
  },
  {
   "cell_type": "code",
   "execution_count": 15,
   "id": "f2bf27a6-1d6c-484a-9caf-d635f29a8dcb",
   "metadata": {},
   "outputs": [],
   "source": [
    "# -->>  The greatest increase in profits (date and amount) over the entire period"
   ]
  },
  {
   "cell_type": "code",
   "execution_count": 16,
   "id": "0c6cd179-b4f9-461e-8a76-1da7cffab6bd",
   "metadata": {},
   "outputs": [],
   "source": [
    "# -->>  The greatest decrease in profits (date and amount) over the entire period"
   ]
  },
  {
   "cell_type": "code",
   "execution_count": 17,
   "id": "13623504-ff93-4fb5-b9a0-5aad675d1c6d",
   "metadata": {},
   "outputs": [],
   "source": [
    "# -->>  Print the analysis to the terminal and export a text file with the results"
   ]
  },
  {
   "cell_type": "code",
   "execution_count": 1,
   "id": "5908aa2d-dcbb-410a-b23f-0dd3939ed81a",
   "metadata": {},
   "outputs": [],
   "source": [
    "# Initial Imports"
   ]
  },
  {
   "cell_type": "code",
   "execution_count": 29,
   "id": "2bf4aab3-eb78-45f4-b86a-844b99b5e681",
   "metadata": {},
   "outputs": [],
   "source": [
    "import os"
   ]
  },
  {
   "cell_type": "code",
   "execution_count": 30,
   "id": "0d0b8983-3c4f-412c-ade8-5e298fed3fc1",
   "metadata": {},
   "outputs": [],
   "source": [
    "import csv"
   ]
  },
  {
   "cell_type": "code",
   "execution_count": 31,
   "id": "1ae0b0e6-8836-4de0-89f0-a88ca414682a",
   "metadata": {},
   "outputs": [],
   "source": [
    "# Define PyBank's variables"
   ]
  },
  {
   "cell_type": "code",
   "execution_count": 32,
   "id": "1af033b7-915b-4453-9533-c549471d8135",
   "metadata": {},
   "outputs": [],
   "source": [
    "months = []"
   ]
  },
  {
   "cell_type": "code",
   "execution_count": 33,
   "id": "e68c5b74-ff88-40e5-96a7-f4781e179845",
   "metadata": {},
   "outputs": [],
   "source": [
    "profit_loss_changes = []"
   ]
  },
  {
   "cell_type": "code",
   "execution_count": 34,
   "id": "b7ab22d7-0784-4747-a970-ee86dde13b40",
   "metadata": {},
   "outputs": [],
   "source": [
    "count_months = 0"
   ]
  },
  {
   "cell_type": "code",
   "execution_count": 35,
   "id": "8e26bb74-e09c-4121-9000-b8006eb76b98",
   "metadata": {},
   "outputs": [],
   "source": [
    "net_profit_loss = 0"
   ]
  },
  {
   "cell_type": "code",
   "execution_count": 36,
   "id": "d1e15607-b207-4502-9a56-08631a254ae9",
   "metadata": {},
   "outputs": [],
   "source": [
    "previous_month_profit_loss = 0"
   ]
  },
  {
   "cell_type": "code",
   "execution_count": 37,
   "id": "d96a9c0d-076a-4fc7-a1d4-1297a7034435",
   "metadata": {},
   "outputs": [],
   "source": [
    "current_month_profit_loss = 0"
   ]
  },
  {
   "cell_type": "code",
   "execution_count": 38,
   "id": "2bd7358d-fa37-41a2-b932-b22ea23997f5",
   "metadata": {},
   "outputs": [],
   "source": [
    "profit_loss_change = 0"
   ]
  },
  {
   "cell_type": "code",
   "execution_count": 39,
   "id": "b111268e-7d09-440e-979c-09c0d6510af8",
   "metadata": {},
   "outputs": [],
   "source": [
    "# Change directory to the directory of current python script"
   ]
  },
  {
   "cell_type": "code",
   "execution_count": 58,
   "id": "af61a727-7f1b-4c9c-bb34-73055dd8e32a",
   "metadata": {},
   "outputs": [],
   "source": [
    "os.chdir(os.path.dirname(r\"C:\\Users\\Ryan\\Desktop\\UM FinTech Bootcamp\\Python-Homework\\PyBank\\week_2_Week2_HW_PyBank_budget_data.csv\"))"
   ]
  },
  {
   "cell_type": "code",
   "execution_count": 50,
   "id": "6971b324-7213-4b9c-bc89-b81f942c6cb3",
   "metadata": {},
   "outputs": [],
   "source": [
    "# Path to collect data from the PyBank folder"
   ]
  },
  {
   "cell_type": "code",
   "execution_count": 56,
   "id": "8828659a-3b87-4aee-a9ab-e55a80561420",
   "metadata": {},
   "outputs": [],
   "source": [
    "budget_data_csv_path = os.path.join(r\"C:\\Users\\Ryan\\Desktop\\UM FinTech Bootcamp\\Python-Homework\\PyBank\\week_2_Week2_HW_PyBank_budget_data.csv\")"
   ]
  },
  {
   "cell_type": "code",
   "execution_count": 52,
   "id": "64c6a57d-03ce-4786-bb61-4c46e4dacaf8",
   "metadata": {},
   "outputs": [],
   "source": [
    "# Open and read csv"
   ]
  },
  {
   "cell_type": "code",
   "execution_count": 61,
   "id": "1b3c5ea1-75b2-4a78-bd36-4219e731d410",
   "metadata": {},
   "outputs": [],
   "source": [
    "with open(budget_data_csv_path, newline=\"\") as csvfile:\n",
    "    \n",
    "        csv_reader = csv.reader(csvfile, delimiter=\",\")\n",
    "        \n",
    "        # Read the header row first\n",
    "        \n",
    "        csv_header = next(csvfile)\n",
    "        \n",
    "        #print(f\"Header: {csv_header}\")\n",
    "        # This prints -->> Header: Date, Profit/Losses\n",
    "        \n",
    "        # Read through each row of data after the header\n",
    "        for row in csv_reader:\n",
    "            \n",
    "            \n",
    "            # Count of months\n",
    "            count_months += 1\n",
    "        \n",
    "            # Net total amount of \"Profit/Losses\" over the entire period\n",
    "            current_month_profit_loss = int(row[1])\n",
    "            net_profit_loss += current_month_profit_loss\n",
    "        \n",
    "            if (count_months == 1):\n",
    "                # Make the value of previous month to be equal to current month\n",
    "                previous_month_profit_loss = current_month_profit_loss\n",
    "                continue\n",
    "            \n",
    "            else:\n",
    "                \n",
    "                # Compute change in profit loss\n",
    "                profit_loss_change = current_month_profit_loss - previous_month_profit_loss\n",
    "            \n",
    "                # Append each month to the months[]\n",
    "                months.append(row[0])\n",
    "            \n",
    "                # Append each profit_loss_change to the profit_loss_changes[]\n",
    "                profit_loss_changes.append(profit_loss_change)\n",
    "            \n",
    "                # Make the current_month_loss to be previous_month_profit_loss for the next loop\n",
    "                previous_month_profit_loss = current_month_profit_loss\n",
    "            \n",
    "        #sum and average of the changes in \"Profit/Losses\" over the entire period\n",
    "        sum_profit_loss = sum(profit_loss_changes)\n",
    "        average_profit_loss = round(sum_profit_loss/(count_months - 1), 2)\n",
    "        \n",
    "        # highest and lowest changes in \"Profit/Losses\" over the entire period\n",
    "        highest_change = max(profit_loss_changes)\n",
    "        lowest_change = min(profit_loss_changes)\n",
    "        \n",
    "        # Locate the index value of highest and lowest changes in \"Profit/Losses\" over the entire period\n",
    "        highest_month_index = profit_loss_changes.index(highest_change)\n",
    "        lowest_month_index = profit_loss_changes.index(lowest_change)\n",
    "        \n",
    "        # Assign best and worst month\n",
    "        best_month = months[highest_month_index]\n",
    "        worst_month = months[lowest_month_index]"
   ]
  },
  {
   "cell_type": "code",
   "execution_count": 62,
   "id": "45b46331-7f3a-4560-a941-825eb9b3ecf8",
   "metadata": {},
   "outputs": [],
   "source": [
    "# -->>  Print the analysis to the terminal"
   ]
  },
  {
   "cell_type": "code",
   "execution_count": 66,
   "id": "1e8497ae-8f00-4c82-b6d1-b8cfd5bba19d",
   "metadata": {},
   "outputs": [
    {
     "name": "stdout",
     "output_type": "stream",
     "text": [
      "Financial Analysis\n",
      "----------------------------\n",
      "Total Months:  86\n",
      "Total:  $38382578\n",
      "Average Change:  $-2315.12\n",
      "Greatest Increase in Profits:  Feb-2012 ($1926159)\n",
      "Greatest Decrease in Losses:  Sep-2013 ($-2196167)\n"
     ]
    }
   ],
   "source": [
    "print(\"Financial Analysis\")\n",
    "print(\"----------------------------\")\n",
    "print(f\"Total Months:  {count_months}\")\n",
    "print(f\"Total:  ${net_profit_loss}\")\n",
    "print(f\"Average Change:  ${average_profit_loss}\")\n",
    "print(f\"Greatest Increase in Profits:  {best_month} (${highest_change})\")\n",
    "print(f\"Greatest Decrease in Losses:  {worst_month} (${lowest_change})\")"
   ]
  },
  {
   "cell_type": "code",
   "execution_count": 67,
   "id": "6d906c6d-3feb-4d44-b2c2-7f486e042b18",
   "metadata": {},
   "outputs": [],
   "source": [
    "# -->>  Export a text file with the results"
   ]
  },
  {
   "cell_type": "code",
   "execution_count": 72,
   "id": "424b9456-3724-496e-8479-c8fcb4ce58d3",
   "metadata": {},
   "outputs": [],
   "source": [
    "budget_file = os.path.join(r\"C:\\Users\\Ryan\\Desktop\\UM FinTech Bootcamp\\Python-Homework\\PyBank\\budget_data.txt\")"
   ]
  },
  {
   "cell_type": "code",
   "execution_count": 73,
   "id": "c0acfe36-ddde-4fb8-b959-00ce93265c27",
   "metadata": {},
   "outputs": [],
   "source": [
    "with open(budget_file, \"w\") as outfile:\n",
    "    \n",
    "    outfile.write(\"Financial Analysis\\n\")\n",
    "    outfile.write(\"----------------------------\\n\")\n",
    "    outfile.write(f\"Total Months:  {count_months}\\n\")\n",
    "    outfile.write(f\"Total:  ${net_profit_loss}\\n\")\n",
    "    outfile.write(f\"Average Change:  ${average_profit_loss}\\n\")\n",
    "    outfile.write(f\"Greatest Increase in Profits:  {best_month} (${highest_change})\\n\")\n",
    "    outfile.write(f\"Greatest Decrease in Losses:  {worst_month} (${lowest_change})\\n\")"
   ]
  },
  {
   "cell_type": "code",
   "execution_count": null,
   "id": "46da7456-99ca-4b2a-bdc2-414876eadb37",
   "metadata": {},
   "outputs": [],
   "source": []
  }
 ],
 "metadata": {
  "kernelspec": {
   "display_name": "Python 3",
   "language": "python",
   "name": "python3"
  },
  "language_info": {
   "codemirror_mode": {
    "name": "ipython",
    "version": 3
   },
   "file_extension": ".py",
   "mimetype": "text/x-python",
   "name": "python",
   "nbconvert_exporter": "python",
   "pygments_lexer": "ipython3",
   "version": "3.8.8"
  }
 },
 "nbformat": 4,
 "nbformat_minor": 5
}
