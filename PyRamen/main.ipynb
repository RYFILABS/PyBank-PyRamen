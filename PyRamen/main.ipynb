{
 "cells": [
  {
   "cell_type": "code",
   "execution_count": 1,
   "id": "53594da5-e0e0-4066-929d-e8bbc5592f85",
   "metadata": {},
   "outputs": [],
   "source": [
    "# Importing cvs's for PyRamen. Calculate metrics and output a txt file."
   ]
  },
  {
   "cell_type": "code",
   "execution_count": 2,
   "id": "5ee0fffb-0da6-40bf-b093-7625f4ee8257",
   "metadata": {},
   "outputs": [],
   "source": [
    "# Importing cvs's for PyRamen. Calculate metrics and output a txt file."
   ]
  },
  {
   "cell_type": "code",
   "execution_count": 3,
   "id": "7e4b62b9-6b28-4bd0-aa55-64189201a242",
   "metadata": {},
   "outputs": [],
   "source": [
    "import csv"
   ]
  },
  {
   "cell_type": "code",
   "execution_count": 4,
   "id": "bb67ac70-1bc1-423e-87cd-493849fed726",
   "metadata": {},
   "outputs": [],
   "source": [
    "from pathlib import Path"
   ]
  },
  {
   "cell_type": "code",
   "execution_count": 5,
   "id": "1065e16d-7b8f-4e70-bc60-4fe2f7060d02",
   "metadata": {},
   "outputs": [],
   "source": [
    "# Initalize paths"
   ]
  },
  {
   "cell_type": "code",
   "execution_count": 6,
   "id": "b41e878b-2728-40bf-a0ed-28ac96646ffa",
   "metadata": {},
   "outputs": [],
   "source": [
    "menu_filepath = Path(r'C:\\Users\\Ryan\\Desktop\\UM FinTech Bootcamp\\Python-Homework\\PyRamen\\menu_data.csv')"
   ]
  },
  {
   "cell_type": "code",
   "execution_count": 7,
   "id": "b6d44a0c-b3f7-47d3-8309-6e5cdf28bb5b",
   "metadata": {},
   "outputs": [],
   "source": [
    "sales_filepath = Path(r'C:\\Users\\Ryan\\Desktop\\UM FinTech Bootcamp\\Python-Homework\\PyRamen\\sales_data.csv')"
   ]
  },
  {
   "cell_type": "code",
   "execution_count": 8,
   "id": "c850ab07-90a2-4f82-bd3c-af40a7051f9c",
   "metadata": {},
   "outputs": [],
   "source": [
    "# Initilize needed variables, dict or lists."
   ]
  },
  {
   "cell_type": "code",
   "execution_count": 9,
   "id": "e06a649f-c41d-4c79-b727-29d2440971c0",
   "metadata": {},
   "outputs": [],
   "source": [
    "menu = []"
   ]
  },
  {
   "cell_type": "code",
   "execution_count": 10,
   "id": "02ef674a-0dd1-4e18-ae41-f06eb34b03a0",
   "metadata": {},
   "outputs": [],
   "source": [
    "sales = []"
   ]
  },
  {
   "cell_type": "code",
   "execution_count": 11,
   "id": "2b00ff60-9127-418b-90b4-65829c42f275",
   "metadata": {},
   "outputs": [],
   "source": [
    "report = {}"
   ]
  },
  {
   "cell_type": "code",
   "execution_count": 12,
   "id": "1362f1cf-684a-45aa-8dc8-12f03288d2ad",
   "metadata": {},
   "outputs": [],
   "source": [
    "row_count = 0"
   ]
  },
  {
   "cell_type": "code",
   "execution_count": 15,
   "id": "5a3e0d81-11f8-4be3-ba5a-33d4232884cd",
   "metadata": {},
   "outputs": [],
   "source": [
    "# read menu csv\n",
    "with open(r'C:\\Users\\Ryan\\Desktop\\UM FinTech Bootcamp\\Python-Homework\\PyRamen\\sales_data.csv', 'r') as csvfile:\n",
    "    # print(csvfile)\n",
    "    \n",
    "    csv_reader = csv.reader(csvfile, delimiter = ',')\n",
    "    header = next(csv_reader)\n",
    "    \n",
    "    # print(f\"{header} <- this is the header\" )\n",
    "    \n",
    "    for row in csv_reader:\n",
    "        menu.append(row)"
   ]
  },
  {
   "cell_type": "code",
   "execution_count": 16,
   "id": "cbb8be3b-b6b6-4d5c-9d02-2de38966f6bc",
   "metadata": {},
   "outputs": [],
   "source": [
    "# read sales csv\n",
    "with open(sales_filepath, 'r') as csvfile:\n",
    "    # print(csvfile)\n",
    "    \n",
    "    csv_reader = csv.reader(csvfile, delimiter = ',')\n",
    "    header = next(csv_reader)\n",
    "    \n",
    "    # print(f\"{header} <- this is the header\")\n",
    "    \n",
    "    for row in csv_reader:\n",
    "        sales.append(row)"
   ]
  },
  {
   "cell_type": "code",
   "execution_count": 17,
   "id": "40e7af3c-78d7-478f-82e9-bdb2be2876fd",
   "metadata": {},
   "outputs": [],
   "source": [
    "# create a metric dict for each new menu item\n",
    "for sales_row in sales:\n",
    "    \n",
    "    sales_item = sales_row[4]\n",
    "    quantity = sales_row[3]\n",
    "    \n",
    "    if sales_item not in report:\n",
    "        report[sales_item] = {\"01-count\": 0, \"02-revenue\": 0, \"03-cogs\": 0, \"04-profit\": 0}\n",
    "    else:\n",
    "        continue"
   ]
  },
  {
   "cell_type": "code",
   "execution_count": 19,
   "id": "8042a0a6-e34f-431f-99fd-8d3abd26f557",
   "metadata": {},
   "outputs": [],
   "source": [
    "# extra quantites from sales to report\n",
    "for sales_row in sales:\n",
    "\n",
    "    sales_item = sales_row[4]\n",
    "    quantity = sales_row[3]\n",
    "    \n",
    "    if sales_item in report:\n",
    "        report[sales_item][\"01-count\"] += int(quantity)"
   ]
  },
  {
   "cell_type": "code",
   "execution_count": null,
   "id": "193fbdeb-e7a5-442d-b75c-6d82aa98ef72",
   "metadata": {},
   "outputs": [],
   "source": [
    "# extra price and cost from menu and calculate revenue and cogs\n",
    "for sales_row in sales:\n",
    "\n",
    "    sales_item = sales_row[4]\n",
    "    quantity = sales_row[3]\n",
    "    \n",
    "    for menu_row in menu:\n",
    "        menu_item = menu_row[0]\n",
    "        menu_price = menu_row[3]\n",
    "        menu_cost = menu_row[4]\n",
    "        \n",
    "        if sales_item == menu_item:\n",
    "            report[menu_item][\"02-revenue\"] += (int(menu_price) * int(quantity))\n",
    "            report[menu_item][\"03-cogs\"] += (int(menu_cost) * int(quantity))\n",
    "        elif sales_item != menu_item:\n",
    "            continue"
   ]
  },
  {
   "cell_type": "code",
   "execution_count": null,
   "id": "7901b512-524b-4cd7-8cd4-e2e761af0128",
   "metadata": {},
   "outputs": [],
   "source": [
    "# calculate profit using revenue and cogs\n",
    "for item, valuedict in report.items():\n",
    "    \n",
    "    for key in valuedict:\n",
    "        \n",
    "        cogs = report[item][\"03-cogs\"]\n",
    "        revenue = report[item][\"02-revenue\"]\n",
    "        \n",
    "        if key == \"04-profit\":\n",
    "            report[item][key] = revenue - cogs\n",
    "        else:\n",
    "            continue"
   ]
  },
  {
   "cell_type": "code",
   "execution_count": null,
   "id": "c5e78ca5-b243-4cda-b4c4-ce785574af96",
   "metadata": {},
   "outputs": [],
   "source": [
    "# output file with metrics\n",
    "output_path = Path(\"PyRamen.txt\")\n",
    "\n",
    "with open(output_path, 'w') as file:\n",
    "    file.write(\"This is the financial report for PyRamen.\\n\")\n",
    "    for key in report:\n",
    "        file.write(f\"{key} {report[key]} \\n\")"
   ]
  },
  {
   "cell_type": "code",
   "execution_count": null,
   "id": "af3f4f2f-4c61-4a7c-b5d9-1119361f4d8f",
   "metadata": {},
   "outputs": [],
   "source": []
  }
 ],
 "metadata": {
  "kernelspec": {
   "display_name": "Python 3",
   "language": "python",
   "name": "python3"
  },
  "language_info": {
   "codemirror_mode": {
    "name": "ipython",
    "version": 3
   },
   "file_extension": ".py",
   "mimetype": "text/x-python",
   "name": "python",
   "nbconvert_exporter": "python",
   "pygments_lexer": "ipython3",
   "version": "3.8.8"
  }
 },
 "nbformat": 4,
 "nbformat_minor": 5
}
